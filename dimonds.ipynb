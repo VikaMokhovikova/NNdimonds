{
  "nbformat": 4,
  "nbformat_minor": 0,
  "metadata": {
    "kernelspec": {
      "display_name": "Python 3",
      "language": "python",
      "name": "python3"
    },
    "language_info": {
      "codemirror_mode": {
        "name": "ipython",
        "version": 3
      },
      "file_extension": ".py",
      "mimetype": "text/x-python",
      "name": "python",
      "nbconvert_exporter": "python",
      "pygments_lexer": "ipython3",
      "version": "3.8.5"
    },
    "colab": {
      "provenance": []
    }
  },
  "cells": [
    {
      "cell_type": "code",
      "metadata": {
        "id": "1bzwQjwifF_N"
      },
      "source": [
        "import numpy as np\n",
        "import pandas as pd\n",
        "from sklearn.preprocessing import StandardScaler\n",
        "\n",
        "# Ignore warnings :\n",
        "import warnings\n",
        "warnings.filterwarnings('ignore')\n",
        "\n",
        "\n",
        "# Handle table-like data and matrices :\n",
        "import numpy as np\n",
        "import pandas as pd\n",
        "import math\n",
        "\n",
        "\n",
        "\n",
        "# Modelling Algorithms :\n",
        "\n",
        "# Classification\n",
        "from sklearn.tree import DecisionTreeClassifier\n",
        "from sklearn.linear_model import LogisticRegression\n",
        "from sklearn.neighbors import KNeighborsClassifier\n",
        "from sklearn.naive_bayes import GaussianNB\n",
        "from sklearn.svm import SVC, LinearSVC\n",
        "from sklearn.ensemble import RandomForestClassifier , GradientBoostingClassifier\n",
        "from sklearn.discriminant_analysis import LinearDiscriminantAnalysis , QuadraticDiscriminantAnalysis\n",
        "\n",
        "# Regression\n",
        "from sklearn.linear_model import LinearRegression,Ridge,Lasso,RidgeCV, ElasticNet\n",
        "from sklearn.ensemble import RandomForestRegressor,BaggingRegressor,GradientBoostingRegressor,AdaBoostRegressor\n",
        "from sklearn.svm import SVR\n",
        "from sklearn.neighbors import KNeighborsRegressor\n",
        "from sklearn.neural_network import MLPRegressor\n",
        "from sklearn.metrics import mean_absolute_error\n",
        "from sklearn.metrics import mean_squared_error\n",
        "from sklearn.metrics import r2_score\n",
        "from sklearn import linear_model\n",
        "\n",
        "\n",
        "\n",
        "\n",
        "# Modelling Helpers :\n",
        "#from sklearn.preprocessing import Imputer , Normalizer , scale\n",
        "from sklearn.model_selection import train_test_split\n",
        "from sklearn.feature_selection import RFECV\n",
        "from sklearn.model_selection import GridSearchCV , KFold , cross_val_score\n",
        "\n",
        "\n",
        "\n",
        "#preprocessing :\n",
        "#from sklearn.preprocessing import MinMaxScaler , StandardScaler, Imputer, LabelEncoder\n",
        "\n",
        "\n",
        "\n",
        "#evaluation metrics :\n",
        "\n",
        "# Regression\n",
        "from sklearn.metrics import mean_squared_log_error,mean_squared_error, r2_score,mean_absolute_error\n",
        "\n",
        "# Classification\n",
        "from sklearn.metrics import accuracy_score,precision_score,recall_score,f1_score\n",
        "\n"
      ],
      "execution_count": null,
      "outputs": []
    },
    {
      "cell_type": "code",
      "metadata": {
        "id": "SQQuKMpcfF_T"
      },
      "source": [
        "diamond_data = pd.read_csv(\"diamonds.csv\")"
      ],
      "execution_count": null,
      "outputs": []
    },
    {
      "cell_type": "code",
      "metadata": {
        "colab": {
          "base_uri": "https://localhost:8080/"
        },
        "id": "Syik0gqwfF_U",
        "outputId": "2aadb5cd-4463-462f-f92b-9dcc33d68ecb"
      },
      "source": [
        "diamond_data = diamond_data.drop([\"Unnamed: 0\"],axis=1)\n",
        "diamond_data.head()\n",
        "print(diamond_data[\"price\"])"
      ],
      "execution_count": null,
      "outputs": [
        {
          "output_type": "stream",
          "text": [
            "0         326\n",
            "1         326\n",
            "2         327\n",
            "3         334\n",
            "4         335\n",
            "         ... \n",
            "53935    2757\n",
            "53936    2757\n",
            "53937    2757\n",
            "53938    2757\n",
            "53939    2757\n",
            "Name: price, Length: 53940, dtype: int64\n"
          ],
          "name": "stdout"
        }
      ]
    },
    {
      "cell_type": "code",
      "metadata": {
        "id": "kY7HV0OTfF_V"
      },
      "source": [
        "diamond_data[['x','y','z']] = diamond_data[['x','y','z']].replace(0,np.NaN)\n",
        "diamond_data.dropna(inplace=True)"
      ],
      "execution_count": null,
      "outputs": []
    },
    {
      "cell_type": "code",
      "metadata": {
        "id": "ALsPQU7DfF_W"
      },
      "source": [
        "one_hot_encoders_diamond_data =  pd.get_dummies(diamond_data)\n",
        "cols = one_hot_encoders_diamond_data.columns\n",
        "diamond_clean_data = pd.DataFrame(one_hot_encoders_diamond_data,columns= cols)\n",
        "sc_X = StandardScaler()\n",
        "numericals =  pd.DataFrame(sc_X.fit_transform(diamond_clean_data[['carat','depth','x','y','z','table']]),\n",
        "                           columns=['carat','depth','x','y','z','table'],index=diamond_clean_data.index)"
      ],
      "execution_count": null,
      "outputs": []
    },
    {
      "cell_type": "code",
      "metadata": {
        "id": "tDRKK4w6fF_W"
      },
      "source": [
        "diamond_clean_data_standard = diamond_clean_data.copy(deep=True)\n",
        "diamond_clean_data_standard[['carat','depth','x','y','z','table']] = numericals[['carat','depth','x','y','z','table']]"
      ],
      "execution_count": null,
      "outputs": []
    },
    {
      "cell_type": "code",
      "metadata": {
        "id": "I-GfTAlcfF_W"
      },
      "source": [
        "x = diamond_clean_data_standard.drop([\"price\"],axis=1)\n",
        "y = diamond_clean_data_standard.price\n",
        "\n",
        "train_x, test_x, train_y, test_y = train_test_split(x, y,random_state = 2,test_size=0.3)"
      ],
      "execution_count": null,
      "outputs": []
    },
    {
      "cell_type": "code",
      "metadata": {
        "id": "zmGbYTvrfF_X",
        "colab": {
          "base_uri": "https://localhost:8080/"
        },
        "outputId": "fc60cf26-cb23-4418-cf67-5d411834a703"
      },
      "source": [
        "print(test_x.columns)"
      ],
      "execution_count": null,
      "outputs": [
        {
          "output_type": "stream",
          "text": [
            "Index(['carat', 'depth', 'table', 'x', 'y', 'z', 'cut_Fair', 'cut_Good',\n",
            "       'cut_Ideal', 'cut_Premium', 'cut_Very Good', 'color_D', 'color_E',\n",
            "       'color_F', 'color_G', 'color_H', 'color_I', 'color_J', 'clarity_I1',\n",
            "       'clarity_IF', 'clarity_SI1', 'clarity_SI2', 'clarity_VS1',\n",
            "       'clarity_VS2', 'clarity_VVS1', 'clarity_VVS2'],\n",
            "      dtype='object')\n"
          ],
          "name": "stdout"
        }
      ]
    },
    {
      "cell_type": "code",
      "metadata": {
        "colab": {
          "base_uri": "https://localhost:8080/"
        },
        "id": "uu-D6vUzfF_X",
        "outputId": "bdb15427-1214-4151-85fe-7ddc68329343"
      },
      "source": [
        "zapros = str(input())\n",
        "path = \"output.csv\"\n",
        "with open(path, \"w\", newline='') as csvfile:\n",
        "    csvfile.write('carat,cut,color,clarity,depth,table,x,y,z\\n')\n",
        "    csvfile.write(zapros+'\\n')\n",
        "print(zapros)"
      ],
      "execution_count": null,
      "outputs": [
        {
          "output_type": "stream",
          "text": [
            "2.02,Premium,I,VS2,59.6,60,8.2,8.25,4.9\n",
            "2.02,Premium,I,VS2,59.6,60,8.2,8.25,4.9\n"
          ],
          "name": "stdout"
        }
      ]
    },
    {
      "cell_type": "code",
      "metadata": {
        "colab": {
          "base_uri": "https://localhost:8080/"
        },
        "id": "slzEVgxzfF_Y",
        "outputId": "1492eea3-d0f3-4373-f6e4-e3eda943cd08"
      },
      "source": [
        "a= pd.read_csv('output.csv')\n",
        "print(a)"
      ],
      "execution_count": null,
      "outputs": [
        {
          "output_type": "stream",
          "text": [
            "   carat      cut color clarity  depth  table    x     y    z\n",
            "0   2.02  Premium     I     VS2   59.6     60  8.2  8.25  4.9\n"
          ],
          "name": "stdout"
        }
      ]
    },
    {
      "cell_type": "code",
      "metadata": {
        "colab": {
          "base_uri": "https://localhost:8080/"
        },
        "id": "y0XKdG3ZfF_Y",
        "outputId": "ed1b13c8-0b1e-45a7-c33a-78fa4901cc93"
      },
      "source": [
        "data = pd.get_dummies(a)\n",
        "print(data)"
      ],
      "execution_count": null,
      "outputs": [
        {
          "output_type": "stream",
          "text": [
            "   carat  depth  table    x     y    z  cut_Premium  color_I  clarity_VS2\n",
            "0   2.02   59.6     60  8.2  8.25  4.9            1        1            1\n"
          ],
          "name": "stdout"
        }
      ]
    },
    {
      "cell_type": "code",
      "metadata": {
        "id": "IQEc_n55fF_Y"
      },
      "source": [
        "d = {'carat':[0], 'depth':[0], 'table':[0], 'x':[0], 'y':[0], 'z': [0], 'cut_Fair':[0], 'cut_Good':[0], 'cut_Ideal':[0], 'cut_Premium':[0], 'cut_Very Good':[0], 'color_D':[0], 'color_E':[0], 'color_F':[0],'color_G':[0], 'color_H':[0], 'color_I':[0], 'color_J':[0], 'clarity_I1':[0], 'clarity_IF':[0], 'clarity_SI1':[0], 'clarity_SI2':[0], 'clarity_VS1':[0], 'clarity_VS2':[0], 'clarity_VVS1':[0], 'clarity_VVS2':[0]}"
      ],
      "execution_count": null,
      "outputs": []
    },
    {
      "cell_type": "code",
      "metadata": {
        "colab": {
          "base_uri": "https://localhost:8080/"
        },
        "id": "VN-f1RLOfF_Z",
        "outputId": "53fd76dd-cbd4-4158-c079-9f7d3269e642"
      },
      "source": [
        "for element in data.columns:\n",
        "    d[element] = list(data[element])\n",
        "\n",
        "print(d)"
      ],
      "execution_count": null,
      "outputs": [
        {
          "output_type": "stream",
          "text": [
            "{'carat': [2.02], 'depth': [59.6], 'table': [60], 'x': [8.2], 'y': [8.25], 'z': [4.9], 'cut_Fair': [0], 'cut_Good': [0], 'cut_Ideal': [0], 'cut_Premium': [1], 'cut_Very Good': [0], 'color_D': [0], 'color_E': [0], 'color_F': [0], 'color_G': [0], 'color_H': [0], 'color_I': [1], 'color_J': [0], 'clarity_I1': [0], 'clarity_IF': [0], 'clarity_SI1': [0], 'clarity_SI2': [0], 'clarity_VS1': [0], 'clarity_VS2': [1], 'clarity_VVS1': [0], 'clarity_VVS2': [0]}\n"
          ],
          "name": "stdout"
        }
      ]
    },
    {
      "cell_type": "code",
      "metadata": {
        "colab": {
          "base_uri": "https://localhost:8080/"
        },
        "id": "ThLUnucbfF_Z",
        "outputId": "857698e6-137b-4afb-fd74-b4d59e4aa6c6"
      },
      "source": [
        "s = pd.DataFrame.from_dict(d)\n",
        "print(s)\n"
      ],
      "execution_count": null,
      "outputs": [
        {
          "output_type": "stream",
          "text": [
            "   carat  depth  table  ...  clarity_VS2  clarity_VVS1  clarity_VVS2\n",
            "0   2.02   59.6     60  ...            1             0             0\n",
            "\n",
            "[1 rows x 26 columns]\n"
          ],
          "name": "stdout"
        }
      ]
    },
    {
      "cell_type": "code",
      "metadata": {
        "colab": {
          "base_uri": "https://localhost:8080/"
        },
        "id": "qCcbj6kQR-OR",
        "outputId": "72009ed2-ce65-41b9-e6ed-75c75959c015"
      },
      "source": [
        "regr = linear_model.LinearRegression()\n",
        "regr.fit(train_x,train_y)\n",
        "y_pred = regr.predict(test_x)\n",
        "print(y_pred)\n",
        "print(\"accuracy: \"+ str(regr.score(test_x,test_y)*100) + \"%\")\n",
        "print(\"Mean absolute error: {}\".format(mean_absolute_error(test_y,y_pred)))\n",
        "print(\"Mean squared error: {}\".format(mean_squared_error(test_y,y_pred)))\n",
        "R2 = r2_score(test_y,y_pred)\n",
        "print('R Squared: {}'.format(R2))\n",
        "n=test_x.shape[0]\n",
        "p=test_x.shape[1] - 1\n",
        "\n",
        "adj_rsquared = 1 - (1 - R2) * ((n - 1)/(n-p-1))\n",
        "print('Adjusted R Squared: {}'.format(adj_rsquared))"
      ],
      "execution_count": null,
      "outputs": [
        {
          "output_type": "stream",
          "text": [
            "[ 129.18641384  356.67773315 3055.83157948 ... 5100.28446603 -796.19219526\n",
            "  467.08057278]\n",
            "accuracy: 92.21078518476793%\n",
            "Mean absolute error: 731.4415989248855\n",
            "Mean squared error: 1222201.224070932\n",
            "R Squared: 0.9221078518476793\n",
            "Adjusted R Squared: 0.9219872757669482\n"
          ],
          "name": "stdout"
        }
      ]
    },
    {
      "cell_type": "code",
      "metadata": {
        "colab": {
          "base_uri": "https://localhost:8080/"
        },
        "id": "nJb-G-5NmLeH",
        "outputId": "35504186-1f90-4aeb-e775-5e825983656b"
      },
      "source": [
        "y_pred = regr.predict(s)\n",
        "print(y_pred)"
      ],
      "execution_count": null,
      "outputs": [
        {
          "output_type": "stream",
          "text": [
            "[-3845.54926391]\n"
          ],
          "name": "stdout"
        }
      ]
    },
    {
      "cell_type": "code",
      "metadata": {
        "colab": {
          "base_uri": "https://localhost:8080/"
        },
        "id": "EpCcEKPAfF_Z",
        "outputId": "a0bde415-051d-4f24-cbc2-dc658ac58022"
      },
      "source": [
        "clf_la = Lasso(normalize=True)\n",
        "clf_la.fit(train_x,train_y)\n",
        "y_pred = clf_la.predict(test_x)\n",
        "print('')\n",
        "print('###### Lasso Regression ######')\n",
        "print('Score : %.4f' % clf_la.score(test_x, test_y))\n",
        "\n",
        "mse = mean_squared_error(test_y, y_pred)\n",
        "mae = mean_absolute_error(test_y, y_pred)\n",
        "rmse = mean_squared_error(test_y, y_pred)**0.5\n",
        "r2 = r2_score(test_y, y_pred)\n",
        "\n",
        "print('')\n",
        "print('MSE    : %0.2f ' % mse)\n",
        "print('MAE    : %0.2f ' % mae)\n",
        "print('RMSE   : %0.2f ' % rmse)\n",
        "print('R2     : %0.2f ' % r2)"
      ],
      "execution_count": null,
      "outputs": [
        {
          "output_type": "stream",
          "text": [
            "\n",
            "###### Lasso Regression ######\n",
            "Score : 0.8782\n",
            "\n",
            "MSE    : 1911827.63 \n",
            "MAE    : 869.21 \n",
            "RMSE   : 1382.69 \n",
            "R2     : 0.88 \n"
          ],
          "name": "stdout"
        }
      ]
    },
    {
      "cell_type": "code",
      "metadata": {
        "colab": {
          "base_uri": "https://localhost:8080/"
        },
        "id": "Z037FkdSfF_a",
        "outputId": "f5074244-c5bd-4fc0-e21d-54d35f65715f"
      },
      "source": [
        "y_pred = clf_la.predict(s)\n",
        "print(y_pred)"
      ],
      "execution_count": null,
      "outputs": [
        {
          "output_type": "stream",
          "text": [
            "[11461.11145006]\n"
          ],
          "name": "stdout"
        }
      ]
    },
    {
      "cell_type": "code",
      "metadata": {
        "colab": {
          "base_uri": "https://localhost:8080/"
        },
        "id": "Ju809FNVfF_a",
        "outputId": "d1ddff00-89fd-4db6-eadc-a559d2bc963a"
      },
      "source": [
        "clf_ar = AdaBoostRegressor(n_estimators=1000)\n",
        "clf_ar.fit(train_x , train_y)\n",
        "accuracies = cross_val_score(estimator = clf_ar, X = train_x, y = train_y, cv = 5,verbose = 1)\n",
        "y_pred = clf_ar.predict(test_x)\n",
        "print('')\n",
        "print('###### AdaBoost Regression ######')\n",
        "print('Score : %.4f' % clf_ar.score(test_x, test_y))\n",
        "print(accuracies)\n",
        "\n",
        "mse = mean_squared_error(test_y, y_pred)\n",
        "mae = mean_absolute_error(test_y, y_pred)\n",
        "rmse = mean_squared_error(test_y, y_pred)**0.5\n",
        "r2 = r2_score(test_y, y_pred)\n",
        "\n",
        "print('')\n",
        "print('MSE    : %0.2f ' % mse)\n",
        "print('MAE    : %0.2f ' % mae)\n",
        "print('RMSE   : %0.2f ' % rmse)\n",
        "print('R2     : %0.2f ' % r2)\n"
      ],
      "execution_count": null,
      "outputs": [
        {
          "output_type": "stream",
          "text": [
            "[Parallel(n_jobs=1)]: Using backend SequentialBackend with 1 concurrent workers.\n",
            "[Parallel(n_jobs=1)]: Done   5 out of   5 | elapsed:  1.2min finished\n"
          ],
          "name": "stderr"
        },
        {
          "output_type": "stream",
          "text": [
            "\n",
            "###### AdaBoost Regression ######\n",
            "Score : 0.8227\n",
            "[0.61044017 0.85804965 0.87516819 0.88368744 0.88332175]\n",
            "\n",
            "MSE    : 2781576.30 \n",
            "MAE    : 1415.72 \n",
            "RMSE   : 1667.81 \n",
            "R2     : 0.82 \n"
          ],
          "name": "stdout"
        }
      ]
    },
    {
      "cell_type": "code",
      "metadata": {
        "colab": {
          "base_uri": "https://localhost:8080/"
        },
        "id": "iUFiTui7wEzi",
        "outputId": "7fb3121d-2cee-4b60-be5f-0d46a4a2fa13"
      },
      "source": [
        "y_pred = clf_ar.predict(s)\n",
        "print(y_pred)"
      ],
      "execution_count": null,
      "outputs": [
        {
          "output_type": "stream",
          "text": [
            "[13757.7295829]\n"
          ],
          "name": "stdout"
        }
      ]
    },
    {
      "cell_type": "code",
      "metadata": {
        "colab": {
          "base_uri": "https://localhost:8080/"
        },
        "id": "PVst0r5dwpA5",
        "outputId": "b3530727-e0da-42a6-d1cc-beadfc5dcfe1"
      },
      "source": [
        "clf_rr = Ridge(normalize=True)\n",
        "clf_rr.fit(train_x , train_y)\n",
        "accuracies = cross_val_score(estimator = clf_rr, X = train_x, y = train_y, cv = 5,verbose = 1)\n",
        "y_pred = clf_rr.predict(test_x)\n",
        "print('')\n",
        "print('###### Ridge Regression ######')\n",
        "print('Score : %.4f' % clf_rr.score(test_x, test_y))\n",
        "print(accuracies)\n",
        "\n",
        "mse = mean_squared_error(test_y, y_pred)\n",
        "mae = mean_absolute_error(test_y, y_pred)\n",
        "rmse = mean_squared_error(test_y, y_pred)**0.5\n",
        "r2 = r2_score(test_y, y_pred)\n",
        "\n",
        "print('')\n",
        "print('MSE    : %0.2f ' % mse)\n",
        "print('MAE    : %0.2f ' % mae)\n",
        "print('RMSE   : %0.2f ' % rmse)\n",
        "print('R2     : %0.2f ' % r2)"
      ],
      "execution_count": null,
      "outputs": [
        {
          "output_type": "stream",
          "text": [
            "[Parallel(n_jobs=1)]: Using backend SequentialBackend with 1 concurrent workers.\n",
            "[Parallel(n_jobs=1)]: Done   5 out of   5 | elapsed:    0.2s finished\n"
          ],
          "name": "stderr"
        },
        {
          "output_type": "stream",
          "text": [
            "\n",
            "###### Ridge Regression ######\n",
            "Score : 0.8039\n",
            "[0.80465751 0.80082824 0.79616859 0.80014069 0.80416299]\n",
            "\n",
            "MSE    : 3077274.32 \n",
            "MAE    : 1125.40 \n",
            "RMSE   : 1754.22 \n",
            "R2     : 0.80 \n"
          ],
          "name": "stdout"
        }
      ]
    },
    {
      "cell_type": "code",
      "metadata": {
        "colab": {
          "base_uri": "https://localhost:8080/"
        },
        "id": "5IfU_VG2F3d6",
        "outputId": "5e5a9adf-2b44-42fa-dda2-c3943fbbe0a7"
      },
      "source": [
        "y_pred = clf_rr.predict(s)\n",
        "print(y_pred)"
      ],
      "execution_count": null,
      "outputs": [
        {
          "output_type": "stream",
          "text": [
            "[20799.82665121]\n"
          ],
          "name": "stdout"
        }
      ]
    },
    {
      "cell_type": "code",
      "metadata": {
        "id": "3kZwQ4BzaoTZ",
        "colab": {
          "base_uri": "https://localhost:8080/"
        },
        "outputId": "f26c989a-9915-4528-a7d0-e3fb49f5daf5"
      },
      "source": [
        "clf_gbr = GradientBoostingRegressor(n_estimators=100, learning_rate=0.1,max_depth=1, random_state=0, loss='ls',verbose = 1)\n",
        "clf_gbr.fit(train_x , train_y)\n",
        "accuracies = cross_val_score(estimator = clf_gbr, X = train_x, y = train_y, cv = 5,verbose = 1)\n",
        "y_pred = clf_gbr.predict(test_x)\n",
        "print('')\n",
        "print('###### Gradient Boosting Regression #######')\n",
        "print('Score : %.4f' % clf_gbr.score(test_x, test_y))\n",
        "print(accuracies)\n",
        "\n",
        "mse = mean_squared_error(test_y, y_pred)\n",
        "mae = mean_absolute_error(test_y, y_pred)\n",
        "rmse = mean_squared_error(test_y, y_pred)**0.5\n",
        "r2 = r2_score(test_y, y_pred)\n",
        "\n",
        "print('')\n",
        "print('MSE    : %0.2f ' % mse)\n",
        "print('MAE    : %0.2f ' % mae)\n",
        "print('RMSE   : %0.2f ' % rmse)"
      ],
      "execution_count": null,
      "outputs": [
        {
          "output_type": "stream",
          "text": [
            "      Iter       Train Loss   Remaining Time \n",
            "         1    14141267.1496            2.13s\n",
            "         2    12530790.6914            2.14s\n",
            "         3    11197448.0422            2.08s\n",
            "         4    10005941.2794            2.06s\n",
            "         5     9029948.2640            2.03s\n",
            "         6     8173690.0904            2.00s\n",
            "         7     7406538.2029            1.96s\n",
            "         8     6770697.1978            1.94s\n",
            "         9     6203717.1336            1.92s\n",
            "        10     5729574.1928            1.92s\n",
            "        20     3175757.7962            1.69s\n",
            "        30     2361288.9242            1.49s\n",
            "        40     2074618.0131            1.27s\n",
            "        50     1917170.4175            1.06s\n",
            "        60     1800295.2274            0.84s\n",
            "        70     1711099.5470            0.63s\n",
            "        80     1638073.2563            0.42s\n",
            "        90     1575664.8535            0.21s\n",
            "       100     1522174.8444            0.00s\n",
            "      Iter       Train Loss   Remaining Time \n",
            "         1    14097289.8163            1.62s\n",
            "         2    12486406.7844            1.62s\n",
            "         3    11157153.6227            1.70s\n",
            "         4     9966847.8799            1.67s\n",
            "         5     8988683.7939            1.62s\n",
            "         6     8130504.7512            1.64s\n",
            "         7     7368008.2586            1.62s\n",
            "         8     6730599.0701            1.59s\n",
            "         9     6166949.0379            1.56s\n",
            "        10     5691497.5157            1.55s\n"
          ],
          "name": "stdout"
        },
        {
          "output_type": "stream",
          "text": [
            "[Parallel(n_jobs=1)]: Using backend SequentialBackend with 1 concurrent workers.\n"
          ],
          "name": "stderr"
        },
        {
          "output_type": "stream",
          "text": [
            "        20     3145901.4737            1.35s\n",
            "        30     2337224.7671            1.18s\n",
            "        40     2053096.1169            1.01s\n",
            "        50     1897420.8367            0.84s\n",
            "        60     1781740.8160            0.67s\n",
            "        70     1693521.5136            0.50s\n",
            "        80     1621454.5728            0.33s\n",
            "        90     1559768.0402            0.16s\n",
            "       100     1506524.1552            0.00s\n",
            "      Iter       Train Loss   Remaining Time \n",
            "         1    14189191.5732            1.98s\n",
            "         2    12575804.7007            1.75s\n",
            "         3    11239311.2679            1.67s\n",
            "         4    10042565.6008            1.64s\n",
            "         5     9062662.5181            1.61s\n",
            "         6     8203863.4458            1.57s\n",
            "         7     7433632.9918            1.58s\n",
            "         8     6795411.5824            1.58s\n",
            "         9     6226202.9411            1.54s\n",
            "        10     5751559.8093            1.52s\n",
            "        20     3191514.2231            1.31s\n",
            "        30     2379357.3750            1.12s\n",
            "        40     2093480.3299            0.97s\n",
            "        50     1935674.9435            0.80s\n",
            "        60     1817856.8787            0.64s\n",
            "        70     1728428.4694            0.48s\n",
            "        80     1654545.7127            0.32s\n",
            "        90     1591497.2409            0.16s\n",
            "       100     1537315.2364            0.00s\n",
            "      Iter       Train Loss   Remaining Time \n",
            "         1    14148333.9038            1.74s\n",
            "         2    12538774.7713            1.71s\n",
            "         3    11196028.6307            1.69s\n",
            "         4    10020585.4724            1.67s\n",
            "         5     9031611.8504            1.65s\n",
            "         6     8164554.5473            1.62s\n",
            "         7     7413003.4432            1.61s\n",
            "         8     6769709.4225            1.59s\n",
            "         9     6212651.4961            1.56s\n",
            "        10     5735120.5532            1.56s\n",
            "        20     3181978.7440            1.39s\n",
            "        30     2365896.4360            1.20s\n",
            "        40     2077536.9564            1.06s\n",
            "        50     1917503.0907            0.88s\n",
            "        60     1798253.8354            0.70s\n",
            "        70     1707852.8948            0.52s\n",
            "        80     1634517.7325            0.35s\n",
            "        90     1571801.0732            0.18s\n",
            "       100     1517912.4978            0.00s\n",
            "      Iter       Train Loss   Remaining Time \n",
            "         1    14195783.6606            1.76s\n",
            "         2    12571180.3572            1.79s\n",
            "         3    11226324.9611            2.03s\n",
            "         4    10033867.2211            1.95s\n",
            "         5     9054467.0342            1.92s\n",
            "         6     8160077.7027            1.88s\n",
            "         7     7421830.5766            1.85s\n",
            "         8     6780354.6402            1.83s\n",
            "         9     6212451.1368            1.80s\n",
            "        10     5736054.5017            1.81s\n",
            "        20     3160613.2162            1.54s\n",
            "        30     2337936.7436            1.33s\n",
            "        40     2050370.6672            1.12s\n",
            "        50     1894459.2544            0.94s\n",
            "        60     1778835.5492            0.75s\n",
            "        70     1691531.4206            0.55s\n",
            "        80     1620391.2148            0.36s\n",
            "        90     1559424.3024            0.18s\n",
            "       100     1507639.4848            0.00s\n",
            "      Iter       Train Loss   Remaining Time \n",
            "         1    14075485.3953            1.69s\n",
            "         2    12479196.8638            1.72s\n",
            "         3    11143160.7318            1.72s\n",
            "         4     9982589.4988            1.73s\n",
            "         5     8995741.2877            1.71s\n",
            "         6     8123521.7514            1.71s\n",
            "         7     7393040.9558            1.70s\n",
            "         8     6741503.8897            1.69s\n",
            "         9     6200739.0275            1.67s\n",
            "        10     5715481.4189            1.64s\n",
            "        20     3185782.2743            1.45s\n",
            "        30     2373645.7794            1.24s\n",
            "        40     2088881.3259            1.08s\n",
            "        50     1930716.0515            0.90s\n",
            "        60     1813500.1070            0.75s\n",
            "        70     1723619.4915            0.56s\n",
            "        80     1649465.0212            0.37s\n",
            "        90     1586261.0813            0.18s\n",
            "       100     1532024.2104            0.00s\n",
            "\n",
            "###### Gradient Boosting Regression #######\n",
            "Score : 0.9034\n",
            "[0.90141126 0.90699962 0.90317828 0.89875202 0.90672114]\n",
            "\n",
            "MSE    : 1515323.86 \n",
            "MAE    : 718.00 \n",
            "RMSE   : 1230.98 \n"
          ],
          "name": "stdout"
        },
        {
          "output_type": "stream",
          "text": [
            "[Parallel(n_jobs=1)]: Done   5 out of   5 | elapsed:    8.8s finished\n"
          ],
          "name": "stderr"
        }
      ]
    },
    {
      "cell_type": "code",
      "metadata": {
        "colab": {
          "base_uri": "https://localhost:8080/"
        },
        "id": "VIHoKLtAbL1z",
        "outputId": "5135ab58-7b93-49fb-eb2c-df4becb699aa"
      },
      "source": [
        "y_pred = clf_gbr.predict(s)\n",
        "print(y_pred)"
      ],
      "execution_count": null,
      "outputs": [
        {
          "output_type": "stream",
          "text": [
            "[14551.88383756]\n"
          ],
          "name": "stdout"
        }
      ]
    },
    {
      "cell_type": "code",
      "metadata": {
        "colab": {
          "base_uri": "https://localhost:8080/"
        },
        "id": "XDOobNfJbj_t",
        "outputId": "3018f88c-cd8b-4bb4-90a4-9d6c6d51ffb7"
      },
      "source": [
        "clf_rf = RandomForestRegressor()\n",
        "clf_rf.fit(train_x , train_y)\n",
        "accuracies = cross_val_score(estimator = clf_rf, X = train_x, y = train_y, cv = 5,verbose = 1)\n",
        "y_pred = clf_rf.predict(test_x)\n",
        "print('')\n",
        "print('###### Random Forest ######')\n",
        "print('Score : %.4f' % clf_rf.score(test_x, test_y))\n",
        "print(accuracies)\n",
        "\n",
        "mse = mean_squared_error(test_y, y_pred)\n",
        "mae = mean_absolute_error(test_y, y_pred)\n",
        "rmse = mean_squared_error(test_y, y_pred)**0.5\n",
        "r2 = r2_score(test_y, y_pred)\n",
        "\n",
        "print('')\n",
        "print('MSE    : %0.2f ' % mse)\n",
        "print('MAE    : %0.2f ' % mae)\n",
        "print('RMSE   : %0.2f ' % rmse)\n",
        "print('R2     : %0.2f ' % r2)"
      ],
      "execution_count": null,
      "outputs": [
        {
          "output_type": "stream",
          "text": [
            "[Parallel(n_jobs=1)]: Using backend SequentialBackend with 1 concurrent workers.\n",
            "[Parallel(n_jobs=1)]: Done   5 out of   5 | elapsed:  1.6min finished\n"
          ],
          "name": "stderr"
        },
        {
          "output_type": "stream",
          "text": [
            "\n",
            "###### Random Forest ######\n",
            "Score : 0.9800\n",
            "[0.97935371 0.98185141 0.97984147 0.98166463 0.98077532]\n",
            "\n",
            "MSE    : 314301.80 \n",
            "MAE    : 279.01 \n",
            "RMSE   : 560.63 \n",
            "R2     : 0.98 \n"
          ],
          "name": "stdout"
        }
      ]
    },
    {
      "cell_type": "code",
      "metadata": {
        "colab": {
          "base_uri": "https://localhost:8080/"
        },
        "id": "Gk8fNIFafmin",
        "outputId": "a81870c4-dd67-4ea5-88bd-25f6edb20a01"
      },
      "source": [
        "y_pred = clf_rf.predict(s)\n",
        "print(y_pred)"
      ],
      "execution_count": null,
      "outputs": [
        {
          "output_type": "stream",
          "text": [
            "[15810.99]\n"
          ],
          "name": "stdout"
        }
      ]
    }
  ]
}